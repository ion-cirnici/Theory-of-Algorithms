{
 "cells": [
  {
   "cell_type": "markdown",
   "id": "fa3cf5a8",
   "metadata": {},
   "source": [
    "<br>\n",
    "\n",
    "# Countdown Numbers Game Notebook\n",
    "\n",
    "***\n",
    "\n",
    "<br>"
   ]
  },
  {
   "cell_type": "markdown",
   "id": "92e999ed",
   "metadata": {},
   "source": [
    "* **Overview and explanation of the Countdown Numbers Game.**\n",
    "\n",
    "* **Discussion of the complexity of the Countdown Numbers Game.**\n",
    "\n",
    "* **Python function, written in a functional programming style to solve a Countdown Numbers Game. The function should take a list of six numbers and a target number and return a method to calculate the target from the numbers, if it exists.**\n",
    "\n",
    "* **Explanation of the functional.**"
   ]
  },
  {
   "cell_type": "markdown",
   "id": "b9f54de8",
   "metadata": {},
   "source": [
    "<br>\n",
    "\n",
    "### <span style=\"color:blue\">*Overview of Countdown Numbers*</span>\n",
    "\n",
    "***\n",
    "\n",
    "<br>"
   ]
  },
  {
   "cell_type": "markdown",
   "id": "3e2a7365",
   "metadata": {},
   "source": [
    "The Countdown game tests contestants' numeracy and word-making skills. In the ‘letters’ rounds of the game, players have to create the longest word possible from a random selection of letters (a little bit like Scrabble) picked from vowels and consonants.\n",
    "\n",
    "In the ‘numbers’ round of the game, players have to combine six selected numbers (using just the four basic arithmetic operators) to get as close as possible to a randomly generated total. They may use only the four basic operations of addition, subtraction, multiplication and division, and do not have to use all six numbers and contestants have 30 seconds to work out a sequence of calculations with the numbers.\n",
    "The contestant in control chooses six of 24 shuffled face-down number tiles, arranged into two groups: 20 \"small numbers\" (two each of 1 through 10), and four \"large numbers\" of 25, 50, 75, and 100. Some special episodes replace the large numbers with 12, 37, 62, and 87."
   ]
  },
  {
   "cell_type": "markdown",
   "id": "b8d00937",
   "metadata": {},
   "source": [
    "<br>\n",
    "\n",
    "### <span style=\"color:blue\">*Complexity of the Countdown Numbers*</span>\n",
    "\n",
    "***\n",
    "\n",
    "<br>"
   ]
  },
  {
   "cell_type": "markdown",
   "id": "cda994ec",
   "metadata": {},
   "source": [
    "<br>\n",
    "\n",
    "### <span style=\"color:blue\">*Functional programming style to solve a Countdown Numbers*</span>\n",
    "\n",
    "***\n",
    "\n",
    "<br>"
   ]
  },
  {
   "cell_type": "markdown",
   "id": "cc96ecff",
   "metadata": {},
   "source": [
    "<br>\n",
    "\n",
    "### <span style=\"color:blue\">*Explanation of the functional*</span>\n",
    "\n",
    "***\n",
    "\n",
    "<br>"
   ]
  },
  {
   "cell_type": "markdown",
   "id": "095c86ab",
   "metadata": {},
   "source": [
    "### <span style=\"color:blue\">*Reference*</span>\n",
    "1. (https://datagenetics.com/blog/august32014/index.html)\n",
    "2."
   ]
  },
  {
   "cell_type": "markdown",
   "id": "be4c2985",
   "metadata": {},
   "source": [
    "<br>\n",
    "\n",
    "### <span style=\"color:blue\">*END*</span>\n",
    "\n",
    "***\n",
    "\n",
    "<br>"
   ]
  }
 ],
 "metadata": {
  "kernelspec": {
   "display_name": "Python 3",
   "language": "python",
   "name": "python3"
  },
  "language_info": {
   "codemirror_mode": {
    "name": "ipython",
    "version": 3
   },
   "file_extension": ".py",
   "mimetype": "text/x-python",
   "name": "python",
   "nbconvert_exporter": "python",
   "pygments_lexer": "ipython3",
   "version": "3.9.7"
  }
 },
 "nbformat": 4,
 "nbformat_minor": 5
}
