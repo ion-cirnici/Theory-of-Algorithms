{
 "cells": [
  {
   "cell_type": "markdown",
   "id": "fa3cf5a8",
   "metadata": {},
   "source": [
    "<br>\n",
    "\n",
    "# Countdown Numbers Game Notebook\n",
    "\n",
    "***\n",
    "\n",
    "<br>"
   ]
  },
  {
   "cell_type": "markdown",
   "id": "92e999ed",
   "metadata": {},
   "source": [
    "* **Overview and explanation of the Countdown Numbers Game.**\n",
    "\n",
    "* **Discussion of the complexity of the Countdown Numbers Game.**\n",
    "\n",
    "* **Python function, written in a functional programming style to solve a Countdown Numbers Game. The function should take a list of six numbers and a target number and return a method to calculate the target from the numbers, if it exists.**\n",
    "\n",
    "* **Explanation of the functional.**"
   ]
  },
  {
   "cell_type": "markdown",
   "id": "b9f54de8",
   "metadata": {},
   "source": [
    "<br>\n",
    "\n",
    "### <span style=\"color:blue\">*Overview of Countdown Numbers*</span>\n",
    "\n",
    "***\n",
    "\n",
    "<br>"
   ]
  },
  {
   "cell_type": "markdown",
   "id": "88174716",
   "metadata": {},
   "source": [
    "The Countdown game tests contestants' numeracy and word-making skills. In the ‘letters’ rounds of the game, players have to create the longest word possible from a random selection of letters (a little bit like Scrabble) picked from vowels and consonants.\n",
    "\n",
    "In the ‘numbers’ round of the game, players have to combine six selected numbers (using just the four basic arithmetic operators) to get as close as possible to a randomly generated total.\n",
    "The contestant in control chooses six of 24 shuffled face-down number tiles, arranged into two groups: 20 \"small numbers\" (two each of 1 through 10), and four \"large numbers\" of 25, 50, 75, and 100. Some special episodes replace the large numbers with 12, 37, 62, and 87.\n",
    "They may use only the four basic operations of addition, subtraction, multiplication and division, and do not have to use all six numbers and contestants have 30 seconds to work out a sequence of calculations with the numbers."
   ]
  },
  {
   "cell_type": "markdown",
   "id": "b8d00937",
   "metadata": {},
   "source": [
    "<br>\n",
    "\n",
    "### <span style=\"color:blue\">*Complexity of the Countdown Numbers*</span>\n",
    "\n",
    "***\n",
    "\n",
    "<br>"
   ]
  },
  {
   "cell_type": "markdown",
   "id": "cda994ec",
   "metadata": {},
   "source": [
    "<br>\n",
    "\n",
    "### <span style=\"color:blue\">*Functional programming style to solve a Countdown Numbers*</span>\n",
    "\n",
    "***\n",
    "\n",
    "<br>"
   ]
  },
  {
   "cell_type": "markdown",
   "id": "4beef023",
   "metadata": {},
   "source": [
    "<br>\n",
    "\n",
    "### Countdown numbers game\n",
    "\n",
    "***"
   ]
  },
  {
   "cell_type": "code",
   "execution_count": 1,
   "id": "e3e55c68",
   "metadata": {},
   "outputs": [],
   "source": [
    "# Permutations and combinations.\n",
    "import itertools as it"
   ]
  },
  {
   "cell_type": "code",
   "execution_count": 2,
   "id": "7c9ac227",
   "metadata": {},
   "outputs": [],
   "source": [
    "# Random number generation.\n",
    "import random"
   ]
  },
  {
   "cell_type": "code",
   "execution_count": 4,
   "id": "8127af7a",
   "metadata": {},
   "outputs": [],
   "source": [
    "# Operators as functions.\n",
    "import operator"
   ]
  },
  {
   "cell_type": "code",
   "execution_count": 13,
   "id": "5636370c",
   "metadata": {},
   "outputs": [
    {
     "data": {
      "text/plain": [
       "[25, 50, 75, 100]"
      ]
     },
     "execution_count": 13,
     "metadata": {},
     "output_type": "execute_result"
    }
   ],
   "source": [
    "# The large numbers.\n",
    "large = [25, 50, 75, 100]\n",
    "large"
   ]
  },
  {
   "cell_type": "code",
   "execution_count": 14,
   "id": "d4971886",
   "metadata": {},
   "outputs": [
    {
     "data": {
      "text/plain": [
       "[1, 1, 2, 2, 3, 3, 4, 4, 5, 5, 6, 6, 7, 7, 8, 8, 9, 9, 10, 10]"
      ]
     },
     "execution_count": 14,
     "metadata": {},
     "output_type": "execute_result"
    }
   ],
   "source": [
    "# The small numbers.\n",
    "small = sorted(list(range(1, 11)) * 2)\n",
    "small"
   ]
  },
  {
   "cell_type": "code",
   "execution_count": 15,
   "id": "24b92d91",
   "metadata": {},
   "outputs": [
    {
     "data": {
      "text/plain": [
       "0"
      ]
     },
     "execution_count": 15,
     "metadata": {},
     "output_type": "execute_result"
    }
   ],
   "source": [
    "# The number of large numbers to pick - between 0 and 4 inclusive.\n",
    "no_large = random.randrange(0, 5)\n",
    "no_large"
   ]
  },
  {
   "cell_type": "code",
   "execution_count": 16,
   "id": "f5aff15e",
   "metadata": {},
   "outputs": [
    {
     "data": {
      "text/plain": [
       "[]"
      ]
     },
     "execution_count": 16,
     "metadata": {},
     "output_type": "execute_result"
    }
   ],
   "source": [
    "# Select no_large large numbers at random.\n",
    "large_rand = random.sample(large, no_large)\n",
    "large_rand"
   ]
  },
  {
   "cell_type": "code",
   "execution_count": 17,
   "id": "c0085f97",
   "metadata": {},
   "outputs": [
    {
     "data": {
      "text/plain": [
       "[9, 10, 8, 6, 5, 1]"
      ]
     },
     "execution_count": 17,
     "metadata": {},
     "output_type": "execute_result"
    }
   ],
   "source": [
    "# Select (6 - no_large) small numbers at random.\n",
    "small_rand = random.sample(small, 6 - no_large)\n",
    "small_rand"
   ]
  },
  {
   "cell_type": "code",
   "execution_count": 18,
   "id": "41f0ff54",
   "metadata": {},
   "outputs": [
    {
     "data": {
      "text/plain": [
       "[9, 10, 8, 6, 5, 1]"
      ]
     },
     "execution_count": 18,
     "metadata": {},
     "output_type": "execute_result"
    }
   ],
   "source": [
    "# The six random numbers in a list.\n",
    "play_nos = large_rand + small_rand\n",
    "play_nos"
   ]
  },
  {
   "cell_type": "code",
   "execution_count": 20,
   "id": "0b5a6e7d",
   "metadata": {},
   "outputs": [
    {
     "data": {
      "text/plain": [
       "469"
      ]
     },
     "execution_count": 20,
     "metadata": {},
     "output_type": "execute_result"
    }
   ],
   "source": [
    "# Pick a random target number.\n",
    "target = random.randrange(101, 1000)\n",
    "target"
   ]
  },
  {
   "cell_type": "code",
   "execution_count": 23,
   "id": "7d6552a8",
   "metadata": {},
   "outputs": [],
   "source": [
    "# All in one function.\n",
    "\n",
    "# For random nubmers and samples.\n",
    "import random\n",
    "\n",
    "def new_numbers_game(no_large=None):\n",
    "  \"\"\" Returns six numbers and a target number representing a Countdown numbers game.\n",
    "  \"\"\"\n",
    "  # If no_large in None, randomly pick value between 0 and 4 inclusive.\n",
    "  if no_large is None:\n",
    "    # Randomly set the value.\n",
    "    no_large = random.randrange(0, 5)\n",
    "  \n",
    "  # Select random large numbers.\n",
    "  large_rand = random.sample([25, 50, 75, 100], no_large)\n",
    "  # Select random small numbers.\n",
    "  small_rand = random.sample(list(range(1, 11)) * 2, 6 - no_large)\n",
    "  # The playing numbers.\n",
    "  play_nos = large_rand + small_rand\n",
    "\n",
    "  # Select a target number.\n",
    "  target = random.randrange(101, 1000)\n",
    "\n",
    "  # Return the game.\n",
    "  return play_nos, target"
   ]
  },
  {
   "cell_type": "code",
   "execution_count": 24,
   "id": "b22aaa60",
   "metadata": {},
   "outputs": [
    {
     "data": {
      "text/plain": [
       "([75, 50, 6, 1, 3, 9], 789)"
      ]
     },
     "execution_count": 24,
     "metadata": {},
     "output_type": "execute_result"
    }
   ],
   "source": [
    "# Random nubmers game.\n",
    "new_numbers_game()"
   ]
  },
  {
   "cell_type": "markdown",
   "id": "cc96ecff",
   "metadata": {},
   "source": [
    "<br>\n",
    "\n",
    "### <span style=\"color:blue\">*Explanation of the functional*</span>\n",
    "\n",
    "***\n",
    "\n",
    "<br>"
   ]
  },
  {
   "cell_type": "markdown",
   "id": "6cceb7f6",
   "metadata": {},
   "source": [
    "### <span style=\"color:blue\">*Reference*</span>\n",
    "1. (https://datagenetics.com/blog/august32014/index.html)\n",
    "2."
   ]
  },
  {
   "cell_type": "markdown",
   "id": "be4c2985",
   "metadata": {},
   "source": [
    "<br>\n",
    "\n",
    "### <span style=\"color:blue\">*END*</span>\n",
    "\n",
    "***\n",
    "\n",
    "<br>"
   ]
  }
 ],
 "metadata": {
  "kernelspec": {
   "display_name": "Python 3",
   "language": "python",
   "name": "python3"
  },
  "language_info": {
   "codemirror_mode": {
    "name": "ipython",
    "version": 3
   },
   "file_extension": ".py",
   "mimetype": "text/x-python",
   "name": "python",
   "nbconvert_exporter": "python",
   "pygments_lexer": "ipython3",
   "version": "3.9.7"
  }
 },
 "nbformat": 4,
 "nbformat_minor": 5
}
