{
 "cells": [
  {
   "cell_type": "markdown",
   "id": "fa3cf5a8",
   "metadata": {},
   "source": [
    "<br>\n",
    "\n",
    "# Countdown Numbers Game Notebook\n",
    "\n",
    "***\n",
    "\n",
    "<br>"
   ]
  },
  {
   "cell_type": "markdown",
   "id": "92e999ed",
   "metadata": {},
   "source": [
    "* **Overview and explanation of the Countdown Numbers Game.**\n",
    "\n",
    "* **Discussion of the complexity of the Countdown Numbers Game.**\n",
    "\n",
    "* **Python function, written in a functional programming style to solve a Countdown Numbers Game. The function should take a list of six numbers and a target number and return a method to calculate the target from the numbers, if it exists.**\n",
    "\n",
    "* **Explanation of the functional.**"
   ]
  },
  {
   "cell_type": "markdown",
   "id": "b9f54de8",
   "metadata": {},
   "source": [
    "<br>\n",
    "\n",
    "### <span style=\"color:blue\">*Overview of Countdown Numbers*</span>\n",
    "\n",
    "***\n",
    "\n",
    "<br>"
   ]
  },
  {
   "cell_type": "markdown",
   "id": "88174716",
   "metadata": {},
   "source": [
    "The Countdown game tests contestants' numeracy and word-making skills. In the ‘letters’ rounds of the game, players have to create the longest word possible from a random selection of letters (a little bit like Scrabble) picked from vowels and consonants.\n",
    "\n",
    "In the ‘numbers’ round of the game, players have to combine six selected numbers (using just the four basic arithmetic operators) to get as close as possible to a randomly generated total.\n",
    "The contestant in control chooses six of 24 shuffled face-down number tiles, arranged into two groups: 20 \"small numbers\" (two each of 1 through 10), and four \"large numbers\" of 25, 50, 75, and 100. Some special episodes replace the large numbers with 12, 37, 62, and 87.\n",
    "They may use only the four basic operations of addition, subtraction, multiplication and division, and do not have to use all six numbers and contestants have 30 seconds to work out a sequence of calculations with the numbers."
   ]
  },
  {
   "cell_type": "markdown",
   "id": "b8d00937",
   "metadata": {},
   "source": [
    "<br>\n",
    "\n",
    "### <span style=\"color:blue\">*Complexity of the Countdown Numbers*</span>\n",
    "\n",
    "***\n",
    "\n",
    "<br>"
   ]
  },
  {
   "cell_type": "markdown",
   "id": "eb9f34c1",
   "metadata": {},
   "source": [
    "It's a simple brute force algorithm with exponential complexity. However you can gain some improvemens by leveraging some heuristic function which will help you to order sequence of numbers or(and) operations you will process in each level of getOperatiosn() function recursion.\n",
    "\n",
    "Example of such heuristic function is for example difference between mid result and total target result.\n",
    "\n",
    "This way however only best-case and average-case complexities get improved. Worst case complexity remains untouched.\n",
    "\n",
    "Worst case complexity can be improved by some kind of branch cutting. I'm not sure if it's possible in this case."
   ]
  },
  {
   "cell_type": "markdown",
   "id": "cda994ec",
   "metadata": {},
   "source": [
    "<br>\n",
    "\n",
    "### <span style=\"color:blue\">*Functional programming style to solve a Countdown Numbers*</span>\n",
    "\n",
    "***\n",
    "\n",
    "<br>"
   ]
  },
  {
   "cell_type": "markdown",
   "id": "a1320e0f",
   "metadata": {},
   "source": [
    "Countdown is a popular day time television game show on Channel 4 in the UK. One of the games is a number puzzle where a contestant picks 6 numbers and then has to build an equation from them that equals a randomly generated target during a 30 second countdown. If you haven't seen the program the rules are available here\n",
    "\n",
    "This puzzle is an ideal candidate to be solved by a computer. It won't ever forget which numbers it's already used and it will always find the really obvious solution that's staring you right in the face but just cannot see.\n",
    "\n",
    "This article documents the algorithm that I came up with. As with most algorithms, the trick is doing it quickly."
   ]
  },
  {
   "cell_type": "markdown",
   "id": "5269117f",
   "metadata": {},
   "source": [
    "<br>\n",
    "\n",
    "### Countdown numbers game\n",
    "\n",
    "***"
   ]
  },
  {
   "cell_type": "code",
   "execution_count": 1,
   "id": "105cf5d2",
   "metadata": {},
   "outputs": [],
   "source": [
    "# Permutations and combinations.\n",
    "import itertools as it"
   ]
  },
  {
   "cell_type": "code",
   "execution_count": 2,
   "id": "6c1ec8ba",
   "metadata": {},
   "outputs": [],
   "source": [
    "# Random number generation.\n",
    "import random"
   ]
  },
  {
   "cell_type": "code",
   "execution_count": 3,
   "id": "e909d000",
   "metadata": {},
   "outputs": [],
   "source": [
    "# Operators as functions.\n",
    "import operator"
   ]
  },
  {
   "cell_type": "code",
   "execution_count": 4,
   "id": "3e185469",
   "metadata": {},
   "outputs": [
    {
     "data": {
      "text/plain": [
       "[25, 50, 75, 100]"
      ]
     },
     "execution_count": 4,
     "metadata": {},
     "output_type": "execute_result"
    }
   ],
   "source": [
    "# The large numbers.\n",
    "large = [25, 50, 75, 100]\n",
    "large"
   ]
  },
  {
   "cell_type": "code",
   "execution_count": 5,
   "id": "6a594a58",
   "metadata": {},
   "outputs": [
    {
     "data": {
      "text/plain": [
       "[1, 1, 2, 2, 3, 3, 4, 4, 5, 5, 6, 6, 7, 7, 8, 8, 9, 9, 10, 10]"
      ]
     },
     "execution_count": 5,
     "metadata": {},
     "output_type": "execute_result"
    }
   ],
   "source": [
    "# The small numbers.\n",
    "small = sorted(list(range(1, 11)) * 2)\n",
    "small"
   ]
  },
  {
   "cell_type": "code",
   "execution_count": 6,
   "id": "97eb5c23",
   "metadata": {},
   "outputs": [
    {
     "data": {
      "text/plain": [
       "1"
      ]
     },
     "execution_count": 6,
     "metadata": {},
     "output_type": "execute_result"
    }
   ],
   "source": [
    "# The number of large numbers to pick - between 0 and 4 inclusive.\n",
    "no_large = random.randrange(0, 5)\n",
    "no_large"
   ]
  },
  {
   "cell_type": "code",
   "execution_count": 7,
   "id": "0b0e7ff7",
   "metadata": {},
   "outputs": [
    {
     "data": {
      "text/plain": [
       "[100]"
      ]
     },
     "execution_count": 7,
     "metadata": {},
     "output_type": "execute_result"
    }
   ],
   "source": [
    "# Select no_large large numbers at random.\n",
    "large_rand = random.sample(large, no_large)\n",
    "large_rand"
   ]
  },
  {
   "cell_type": "code",
   "execution_count": 8,
   "id": "5b7753dc",
   "metadata": {},
   "outputs": [
    {
     "data": {
      "text/plain": [
       "[6, 2, 1, 3, 8]"
      ]
     },
     "execution_count": 8,
     "metadata": {},
     "output_type": "execute_result"
    }
   ],
   "source": [
    "# Select (6 - no_large) small numbers at random.\n",
    "small_rand = random.sample(small, 6 - no_large)\n",
    "small_rand"
   ]
  },
  {
   "cell_type": "code",
   "execution_count": 9,
   "id": "62c5fd0b",
   "metadata": {},
   "outputs": [
    {
     "data": {
      "text/plain": [
       "[100, 6, 2, 1, 3, 8]"
      ]
     },
     "execution_count": 9,
     "metadata": {},
     "output_type": "execute_result"
    }
   ],
   "source": [
    "# The six random numbers in a list.\n",
    "play_nos = large_rand + small_rand\n",
    "play_nos"
   ]
  },
  {
   "cell_type": "code",
   "execution_count": 10,
   "id": "f5dc198e",
   "metadata": {},
   "outputs": [
    {
     "data": {
      "text/plain": [
       "231"
      ]
     },
     "execution_count": 10,
     "metadata": {},
     "output_type": "execute_result"
    }
   ],
   "source": [
    "# Pick a random target number.\n",
    "target = random.randrange(101, 1000)\n",
    "target"
   ]
  },
  {
   "cell_type": "code",
   "execution_count": 11,
   "id": "bbcd0b42",
   "metadata": {},
   "outputs": [],
   "source": [
    "# All in one function.\n",
    "\n",
    "# For random nubmers and samples.\n",
    "import random\n",
    "\n",
    "def new_numbers_game(no_large=None):\n",
    "  \"\"\" Returns six numbers and a target number representing a Countdown numbers game.\n",
    "  \"\"\"\n",
    "  # If no_large in None, randomly pick value between 0 and 4 inclusive.\n",
    "  if no_large is None:\n",
    "    # Randomly set the value.\n",
    "    no_large = random.randrange(0, 5)\n",
    "  \n",
    "  # Select random large numbers.\n",
    "  large_rand = random.sample([25, 50, 75, 100], no_large)\n",
    "  # Select random small numbers.\n",
    "  small_rand = random.sample(list(range(1, 11)) * 2, 6 - no_large)\n",
    "  # The playing numbers.\n",
    "  play_nos = large_rand + small_rand\n",
    "\n",
    "  # Select a target number.\n",
    "  target = random.randrange(101, 1000)\n",
    "\n",
    "  # Return the game.\n",
    "  return play_nos, target"
   ]
  },
  {
   "cell_type": "code",
   "execution_count": 12,
   "id": "9b5c4222",
   "metadata": {
    "scrolled": true
   },
   "outputs": [
    {
     "data": {
      "text/plain": [
       "([25, 100, 75, 9, 8, 1], 211)"
      ]
     },
     "execution_count": 12,
     "metadata": {},
     "output_type": "execute_result"
    }
   ],
   "source": [
    "# Random nubmers game.\n",
    "new_numbers_game()"
   ]
  },
  {
   "cell_type": "markdown",
   "id": "66bd6c92",
   "metadata": {},
   "source": [
    "#### Game"
   ]
  },
  {
   "cell_type": "code",
   "execution_count": 13,
   "id": "24e93db3",
   "metadata": {},
   "outputs": [],
   "source": [
    "# The game generates 6 random numbers 1 - 99\n",
    "# The game generates a target number\n",
    "# The contestant gets target number from 6 random numbers\n",
    "# Random Numbers 50, 8, 3, 7, 2 and 10\n",
    "# Target Number 556\n"
   ]
  },
  {
   "cell_type": "markdown",
   "id": "19fd41bb",
   "metadata": {},
   "source": [
    "##### Solution\n",
    "(50 * 10) + (7 * 8) = 556"
   ]
  },
  {
   "cell_type": "code",
   "execution_count": 14,
   "id": "eeea955f",
   "metadata": {},
   "outputs": [
    {
     "name": "stdout",
     "output_type": "stream",
     "text": [
      "100\n",
      "50\n",
      "75\n",
      "100\n",
      "75\n",
      "The small number is:  11\n",
      "The required Number is:  102\n"
     ]
    }
   ],
   "source": [
    "def randnum():\n",
    "    number1 = random.choice(largenumbers)\n",
    "    print(number1)\n",
    "    \n",
    "largenumbers = [\"25\", \"50\", \"75\", \"100\"]\n",
    "    \n",
    "for x in range(1, 6):\n",
    "    randnum()\n",
    "\n",
    "smallnumber = random.randint(1,11)\n",
    "print(\"The small number is: \", smallnumber)    \n",
    "target_num = random.randint(1,999)\n",
    "\n",
    "\n",
    "print(\"The required Number is: \", target_num)"
   ]
  },
  {
   "cell_type": "code",
   "execution_count": null,
   "id": "82093672",
   "metadata": {},
   "outputs": [],
   "source": []
  },
  {
   "cell_type": "markdown",
   "id": "cc96ecff",
   "metadata": {},
   "source": [
    "<br>\n",
    "\n",
    "### <span style=\"color:blue\">*Explanation of the functional*</span>\n",
    "\n",
    "***\n",
    "\n",
    "<br>"
   ]
  },
  {
   "cell_type": "markdown",
   "id": "6cceb7f6",
   "metadata": {},
   "source": [
    "### <span style=\"color:blue\">*Reference*</span>\n",
    "1.\n",
    "(https://datagenetics.com/blog/august32014/index.html)\n",
    "2.\n",
    "(https://www.codeproject.com/Articles/740035/Countdown-Number-Puzzle-Solver)"
   ]
  },
  {
   "cell_type": "markdown",
   "id": "be4c2985",
   "metadata": {},
   "source": [
    "<br>\n",
    "\n",
    "### <span style=\"color:blue\">*END*</span>\n",
    "\n",
    "***\n",
    "\n",
    "<br>"
   ]
  }
 ],
 "metadata": {
  "kernelspec": {
   "display_name": "Python 3",
   "language": "python",
   "name": "python3"
  },
  "language_info": {
   "codemirror_mode": {
    "name": "ipython",
    "version": 3
   },
   "file_extension": ".py",
   "mimetype": "text/x-python",
   "name": "python",
   "nbconvert_exporter": "python",
   "pygments_lexer": "ipython3",
   "version": "3.9.7"
  }
 },
 "nbformat": 4,
 "nbformat_minor": 5
}
