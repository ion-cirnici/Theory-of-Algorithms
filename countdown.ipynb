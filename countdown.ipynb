{
 "cells": [
  {
   "cell_type": "markdown",
   "id": "fa3cf5a8",
   "metadata": {},
   "source": [
    "<br>\n",
    "\n",
    "# Countdown Numbers Game Notebook\n",
    "\n",
    "***\n",
    "\n",
    "<br>"
   ]
  },
  {
   "cell_type": "markdown",
   "id": "92e999ed",
   "metadata": {},
   "source": [
    "* **Overview and explanation of the Countdown Numbers Game.**\n",
    "\n",
    "* **Discussion of the complexity of the Countdown Numbers Game.**\n",
    "\n",
    "* **Python function, written in a functional programming style to solve a Countdown Numbers Game. The function should take a list of six numbers and a target number and return a method to calculate the target from the numbers, if it exists.**\n",
    "\n",
    "* **Explanation of the functional.**"
   ]
  },
  {
   "cell_type": "markdown",
   "id": "b9f54de8",
   "metadata": {},
   "source": [
    "<br>\n",
    "\n",
    "### <span style=\"color:blue\">*Countdown Numbers*</span>\n",
    "\n",
    "***\n",
    "\n",
    "<br>"
   ]
  },
  {
   "cell_type": "markdown",
   "id": "b8d00937",
   "metadata": {},
   "source": [
    "<br>\n",
    "\n",
    "### <span style=\"color:blue\">*Complexity of the Countdown Numbers*</span>\n",
    "\n",
    "***\n",
    "\n",
    "<br>"
   ]
  },
  {
   "cell_type": "markdown",
   "id": "cda994ec",
   "metadata": {},
   "source": [
    "<br>\n",
    "\n",
    "### <span style=\"color:blue\">*Functional programming style to solve a Countdown Numbers*</span>\n",
    "\n",
    "***\n",
    "\n",
    "<br>"
   ]
  },
  {
   "cell_type": "markdown",
   "id": "cc96ecff",
   "metadata": {},
   "source": [
    "<br>\n",
    "\n",
    "### <span style=\"color:blue\">*Explanation of the functional*</span>\n",
    "\n",
    "***\n",
    "\n",
    "<br>"
   ]
  }
 ],
 "metadata": {
  "kernelspec": {
   "display_name": "Python 3",
   "language": "python",
   "name": "python3"
  },
  "language_info": {
   "codemirror_mode": {
    "name": "ipython",
    "version": 3
   },
   "file_extension": ".py",
   "mimetype": "text/x-python",
   "name": "python",
   "nbconvert_exporter": "python",
   "pygments_lexer": "ipython3",
   "version": "3.9.7"
  }
 },
 "nbformat": 4,
 "nbformat_minor": 5
}
