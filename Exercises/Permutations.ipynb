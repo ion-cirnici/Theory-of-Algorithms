{
 "cells": [
  {
   "cell_type": "markdown",
   "id": "88dd861b",
   "metadata": {},
   "source": [
    "<br>\n",
    "\n",
    "# Permutations\n",
    "\n",
    "***\n",
    "\n",
    "<br>"
   ]
  },
  {
   "cell_type": "code",
   "execution_count": 1,
   "id": "d6af016e",
   "metadata": {},
   "outputs": [],
   "source": [
    "# A list of five (distinct) elements.\n",
    "L = [1, 2, 3, 4, 5]"
   ]
  },
  {
   "cell_type": "code",
   "execution_count": 2,
   "id": "1bda6e42",
   "metadata": {},
   "outputs": [],
   "source": [
    "# A permutation of the list L.\n",
    "M = [2, 1, 3, 4, 5]"
   ]
  },
  {
   "cell_type": "code",
   "execution_count": 3,
   "id": "fec609ca",
   "metadata": {},
   "outputs": [],
   "source": [
    "# Another permutation.\n",
    "N = [5, 2, 1, 3, 4]"
   ]
  },
  {
   "cell_type": "markdown",
   "id": "1c0d13ff",
   "metadata": {},
   "source": [
    "<br>\n",
    "\n",
    "## How many permutations are there?\n",
    "\n",
    "***\n",
    "\n",
    "<br>"
   ]
  },
  {
   "cell_type": "code",
   "execution_count": 4,
   "id": "f3dabbe1",
   "metadata": {},
   "outputs": [
    {
     "data": {
      "text/plain": [
       "120"
      ]
     },
     "execution_count": 4,
     "metadata": {},
     "output_type": "execute_result"
    }
   ],
   "source": [
    "# Suppose we have five blank spaces in which to put the elements of L.\n",
    "#      _ _ _ _ _ \n",
    "# In the first position, we can put any of the five elements.\n",
    "# e.g. 3 _ _ _ _ \n",
    "# If we put 3 in the first position, then we have four elements remaining\n",
    "# to choose from for the second position.\n",
    "# e.g. 3 5 _ _ _\n",
    "# Then we have three elements left, and so on.\n",
    "# So, there are five choices for the first position.\n",
    "# For each of those choices there are four different choices for the second position.\n",
    "# Then for the third position there are three choices for each of those.\n",
    "# And so on.\n",
    "\n",
    "# Number of permutations of 5 elements is:\n",
    "5*4*3*2*1"
   ]
  },
  {
   "cell_type": "code",
   "execution_count": 5,
   "id": "b8a5cfc8",
   "metadata": {},
   "outputs": [
    {
     "data": {
      "text/plain": [
       "720"
      ]
     },
     "execution_count": 5,
     "metadata": {},
     "output_type": "execute_result"
    }
   ],
   "source": [
    "# Number of permutations of 6 elements:\n",
    "6*5*4*3*2*1"
   ]
  },
  {
   "cell_type": "code",
   "execution_count": 6,
   "id": "91ffcba3",
   "metadata": {},
   "outputs": [
    {
     "data": {
      "text/plain": [
       "3628800"
      ]
     },
     "execution_count": 6,
     "metadata": {},
     "output_type": "execute_result"
    }
   ],
   "source": [
    "# The number of permutations grows as n factorial as the length of a list of length n grows.\n",
    "import math\n",
    "\n",
    "# For ten elements.\n",
    "math.factorial(10)"
   ]
  },
  {
   "cell_type": "code",
   "execution_count": 7,
   "id": "a542a23c",
   "metadata": {},
   "outputs": [
    {
     "data": {
      "text/plain": [
       "93326215443944152681699238856266700490715968264381621468592963895217599993229915608941463976156518286253697920827223758251185210916864000000000000000000000000"
      ]
     },
     "execution_count": 7,
     "metadata": {},
     "output_type": "execute_result"
    }
   ],
   "source": [
    "# For one hundred elements.\n",
    "math.factorial(100)"
   ]
  },
  {
   "cell_type": "code",
   "execution_count": null,
   "id": "b481b87a",
   "metadata": {},
   "outputs": [],
   "source": [
    "# A picture of the factorial function for perspective.\n",
    "import matplotlib.pyplot as plt\n",
    "import numpy as np\n",
    "import scipy.special as sm\n",
    "\n",
    "plt.rcParams['figure.figsize'] = (14, 6)\n",
    "\n",
    "x = np.linspace(1.0, 10.0, 1000)\n",
    "y0 = 3*x\n",
    "y1 = x**3\n",
    "y2 = 3**x\n",
    "y3 = sm.factorial(x)\n",
    "\n",
    "plt.plot(x, y0, label='$3x$')\n",
    "plt.plot(x, y1, label='$x^3$')\n",
    "plt.plot(x, y2, label='$3^x$')\n",
    "plt.plot(x, y3, label='$x!$')\n",
    "\n",
    "plt.legend()\n",
    "plt.show()"
   ]
  },
  {
   "cell_type": "markdown",
   "id": "3080d00b",
   "metadata": {},
   "source": [
    "<br>\n",
    "\n",
    "## What algorithms are there to generate permutations?\n",
    "\n",
    "***\n",
    "\n",
    "<br>"
   ]
  },
  {
   "cell_type": "code",
   "execution_count": null,
   "id": "4bc273ee",
   "metadata": {},
   "outputs": [],
   "source": [
    "# All permutations of zero elements list.\n",
    "[]"
   ]
  },
  {
   "cell_type": "code",
   "execution_count": null,
   "id": "985b3a92",
   "metadata": {},
   "outputs": [],
   "source": [
    "# All permutations of one elements list.\n",
    "[1]"
   ]
  },
  {
   "cell_type": "code",
   "execution_count": null,
   "id": "3f1c9cd4",
   "metadata": {},
   "outputs": [],
   "source": [
    "# All the possible permutations of two elements.\n",
    "[2, 1]\n",
    "[1, 2]"
   ]
  },
  {
   "cell_type": "code",
   "execution_count": null,
   "id": "5aeee93e",
   "metadata": {},
   "outputs": [],
   "source": [
    "# All the possible permutations of three elements.\n",
    "[3, 2, 1]\n",
    "[2, 3, 1]\n",
    "[2, 1, 3]\n",
    "[3, 1, 2]\n",
    "[1, 3, 2]\n",
    "[1, 2, 3]"
   ]
  },
  {
   "cell_type": "markdown",
   "id": "886d77f5",
   "metadata": {},
   "source": [
    "## `itertools`"
   ]
  },
  {
   "cell_type": "code",
   "execution_count": null,
   "id": "471c2403",
   "metadata": {},
   "outputs": [],
   "source": [
    "# From the Python Standard Library.\n",
    "import itertools as it"
   ]
  },
  {
   "cell_type": "code",
   "execution_count": null,
   "id": "41d16673",
   "metadata": {},
   "outputs": [],
   "source": [
    "# All permutations of the list [1,2,3].\n",
    "for p in it.permutations([1, 2, 3]):\n",
    "  print(p)"
   ]
  },
  {
   "cell_type": "code",
   "execution_count": null,
   "id": "58b3174f",
   "metadata": {},
   "outputs": [],
   "source": [
    "# A terrible sorting algorithm - O(n!).\n",
    "# Search for the sorted permutation of 7 element list.\n",
    "for p in it.permutations([7, 2, 1, 6, 4, 5, 3]):\n",
    "  # Check if permutation is sorted.\n",
    "  if p[0] <= p[1] and p[1] <= p[2] and p[2] <= p[3] and p[3] <= p[4] and p[4] <= p[5] and p[5] <= p[6]:\n",
    "    # Print the permutation.\n",
    "    print(p)"
   ]
  },
  {
   "cell_type": "markdown",
   "id": "47f0250f",
   "metadata": {},
   "source": [
    "<br>\n",
    "\n",
    "## Further Reading\n",
    "\n",
    "***\n",
    "\n",
    "<br>"
   ]
  },
  {
   "cell_type": "markdown",
   "id": "bfcbd565",
   "metadata": {},
   "source": [
    "* https://docs.python.org/3/library/itertools.html\n",
    "\n",
    "* https://realpython.com/introduction-to-python-generators/\n",
    "\n",
    "* https://realpython.com/python-itertools/"
   ]
  }
 ],
 "metadata": {
  "kernelspec": {
   "display_name": "Python 3",
   "language": "python",
   "name": "python3"
  },
  "language_info": {
   "codemirror_mode": {
    "name": "ipython",
    "version": 3
   },
   "file_extension": ".py",
   "mimetype": "text/x-python",
   "name": "python",
   "nbconvert_exporter": "python",
   "pygments_lexer": "ipython3",
   "version": "3.9.7"
  }
 },
 "nbformat": 4,
 "nbformat_minor": 5
}
