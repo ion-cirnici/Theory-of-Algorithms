{
 "cells": [
  {
   "cell_type": "markdown",
   "id": "0ab4f1a4",
   "metadata": {},
   "source": [
    "<br>\n",
    "\n",
    "## Computing with the Integers\n",
    "\n",
    "***\n",
    "\n",
    "<br>"
   ]
  },
  {
   "cell_type": "code",
   "execution_count": 1,
   "id": "57f6d903",
   "metadata": {},
   "outputs": [],
   "source": [
    "def double(i):\n",
    "    return 2 * i"
   ]
  },
  {
   "cell_type": "code",
   "execution_count": 2,
   "id": "6f950fa1",
   "metadata": {},
   "outputs": [],
   "source": [
    "eg_list_of_inputs = [-9, -8, -7, -6, -5, -4, -3, -2, -1, 0, 1, 2, 3, 4, 5, 6, 7, 8, 9]\n"
   ]
  },
  {
   "cell_type": "code",
   "execution_count": 3,
   "id": "175fdc7a",
   "metadata": {},
   "outputs": [
    {
     "data": {
      "text/plain": [
       "[-18, -16, -14, -12, -10, -8, -6, -4, -2, 0, 2, 4, 6, 8, 10, 12, 14, 16, 18]"
      ]
     },
     "execution_count": 3,
     "metadata": {},
     "output_type": "execute_result"
    }
   ],
   "source": [
    "eg_list_of_outputs = list(map(double, eg_list_of_inputs))\n",
    "eg_list_of_outputs"
   ]
  },
  {
   "cell_type": "code",
   "execution_count": 4,
   "id": "18f31e6f",
   "metadata": {},
   "outputs": [
    {
     "name": "stdout",
     "output_type": "stream",
     "text": [
      " -9 ->  -18\n",
      " -8 ->  -16\n",
      " -7 ->  -14\n",
      " -6 ->  -12\n",
      " -5 ->  -10\n",
      " -4 ->   -8\n",
      " -3 ->   -6\n",
      " -2 ->   -4\n",
      " -1 ->   -2\n",
      "  0 ->    0\n",
      "  1 ->    2\n",
      "  2 ->    4\n",
      "  3 ->    6\n",
      "  4 ->    8\n",
      "  5 ->   10\n",
      "  6 ->   12\n",
      "  7 ->   14\n",
      "  8 ->   16\n",
      "  9 ->   18\n"
     ]
    }
   ],
   "source": [
    "for i in range(-9, 10):\n",
    "    print(f'{i:3} ->  {double(i):3}')"
   ]
  },
  {
   "cell_type": "markdown",
   "id": "3c8d4c98",
   "metadata": {},
   "source": [
    "<br>\n",
    "\n",
    "$ f: \\mathbb{Z} \\rightarrow 2 \\mathbb{Z}$\n",
    "\n",
    "<br>"
   ]
  },
  {
   "cell_type": "markdown",
   "id": "95e839ee",
   "metadata": {},
   "source": [
    "<br>\n",
    "\n",
    "$ f: \\mathbb{Z} \\rightarrow 2 \\mathbb{Z}$\n",
    "\n",
    "$ \\mathbb{Z} = \\{ \\ldots, -2, -1, 0, 1, 2, \\ldots \\}$\n",
    "\n",
    "$ 2 \\mathbb{Z} = \\{ \\ldots, -2, 0, 2, \\ldots \\}$\n",
    "\n",
    "$ 2 \\mathbb{Z} \\subset \\mathbb{Z}$\n",
    "\n",
    "$ | \\mathbb{Z} | $ is $\\aleph_0$\n",
    "\n",
    "<br>"
   ]
  },
  {
   "cell_type": "markdown",
   "id": "d7232b85",
   "metadata": {},
   "source": [
    "<br>\n",
    "\n",
    "## The Integers and the Reals\n",
    "\n",
    "***\n",
    "\n",
    "<br>"
   ]
  },
  {
   "cell_type": "markdown",
   "id": "fa2fb164",
   "metadata": {},
   "source": [
    "$\\mathbb{N}_0 = \\{0, 1, 2, 3, \\ldots\\}$\n",
    "\n",
    "$|\\mathbb{N}_0|$ is $\\aleph_0$\n",
    "\n",
    "$0 \\rightarrow 0$\n",
    "\n",
    "$1 \\rightarrow -1$\n",
    "\n",
    "$2 \\rightarrow 1$\n",
    "\n",
    "$3 \\rightarrow -2$\n",
    "\n",
    "$4 \\rightarrow 2$\n",
    "\n",
    "$\\ldots$"
   ]
  },
  {
   "cell_type": "code",
   "execution_count": 1,
   "id": "01b4a079",
   "metadata": {},
   "outputs": [
    {
     "name": "stdout",
     "output_type": "stream",
     "text": [
      " 0 -> 0.67473186229707959871...\n",
      " 1 -> 0.93834643932247308040...\n",
      " 2 -> 0.28304939573034348932...\n",
      " 3 -> 0.96114500761601018297...\n",
      " 4 -> 0.66310894133537634509...\n",
      " 5 -> 0.30258274782318239637...\n",
      " 6 -> 0.26189870646575452717...\n",
      " 7 -> 0.95733462450317219350...\n",
      " 8 -> 0.32364185327457051233...\n",
      " 9 -> 0.92722548641602653419...\n",
      "and so on\n"
     ]
    }
   ],
   "source": [
    "import random\n",
    "\n",
    "for n in range(10):\n",
    "    print(f'{n:2} -> {random.random():0.20f}...')\n",
    "print('and so on')"
   ]
  },
  {
   "cell_type": "code",
   "execution_count": null,
   "id": "c68f948e",
   "metadata": {},
   "outputs": [],
   "source": [
    "0.0663927917..."
   ]
  },
  {
   "cell_type": "markdown",
   "id": "ba399d4f",
   "metadata": {},
   "source": [
    "$\\mathbb{N}_0 = \\{0, 1, 2, 3, \\ldots\\}$\n",
    "\n",
    "$\\mathbf{P}(\\mathbb{N}_0) = \\{ \\{\\}, \\{0\\}, \\{1\\}, \\{2\\}, \\{3\\}, \\ldots \\{0,1\\} \\ldots\\}$\n",
    "\n",
    "$|\\mathbf{P}(\\mathbb{N}_0)|$ is $\\aleph_1$"
   ]
  },
  {
   "cell_type": "code",
   "execution_count": null,
   "id": "2fd43900",
   "metadata": {},
   "outputs": [],
   "source": []
  }
 ],
 "metadata": {
  "kernelspec": {
   "display_name": "Python 3",
   "language": "python",
   "name": "python3"
  },
  "language_info": {
   "codemirror_mode": {
    "name": "ipython",
    "version": 3
   },
   "file_extension": ".py",
   "mimetype": "text/x-python",
   "name": "python",
   "nbconvert_exporter": "python",
   "pygments_lexer": "ipython3",
   "version": "3.9.7"
  }
 },
 "nbformat": 4,
 "nbformat_minor": 5
}
