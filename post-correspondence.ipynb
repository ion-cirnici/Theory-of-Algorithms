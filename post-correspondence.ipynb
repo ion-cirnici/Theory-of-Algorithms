{
 "cells": [
  {
   "cell_type": "markdown",
   "id": "e863fcc7",
   "metadata": {},
   "source": [
    "<br>\n",
    "\n",
    "# Post Correspondence Problem\n",
    "\n",
    "https://en.wikipedia.org/wiki/Post_correspondence_problem\n",
    "\n",
    "***\n",
    "\n",
    "<br>"
   ]
  },
  {
   "cell_type": "markdown",
   "id": "5e3b466d",
   "metadata": {},
   "source": [
    "* **Definition and explanation of the Post Correspondence Problem.**\n",
    "\n",
    "* **Definition and explanation of the Bounded Post Correspondence Problem.**\n",
    "\n",
    "* **Python function to solve the Bounded Post Correspondence Problem. The function should take two lists of strings and return True if they correspond, False otherwise.**\n",
    "\n",
    "* **Explanation of what an undecidable problem is in computability theory, with reference to the Post Correspondence Problem.**"
   ]
  },
  {
   "cell_type": "markdown",
   "id": "64cdf638",
   "metadata": {},
   "source": [
    "<br>\n",
    "\n",
    "### <span style=\"color:blue\">*Post Correspondence Problem*</span>\n",
    "\n",
    "***\n",
    "\n",
    "<br>"
   ]
  },
  {
   "cell_type": "markdown",
   "id": "9877a2a1",
   "metadata": {},
   "source": [
    "Post Correspondence Problem is a popular undecidable problem that was introduced by Emil Leon Post in 1946. It is simpler than Halting Problem."
   ]
  },
  {
   "cell_type": "code",
   "execution_count": null,
   "id": "6b29e54d",
   "metadata": {},
   "outputs": [],
   "source": []
  },
  {
   "cell_type": "code",
   "execution_count": null,
   "id": "1fc3fa15",
   "metadata": {},
   "outputs": [],
   "source": []
  },
  {
   "cell_type": "markdown",
   "id": "16196b9f",
   "metadata": {},
   "source": [
    "<br>\n",
    "\n",
    "### <span style=\"color:blue\">*Bounded Post Correspondence Problem*</span>\n",
    "\n",
    "***\n",
    "\n",
    "<br>"
   ]
  },
  {
   "cell_type": "code",
   "execution_count": null,
   "id": "0208fe01",
   "metadata": {},
   "outputs": [],
   "source": []
  },
  {
   "cell_type": "markdown",
   "id": "3641496e",
   "metadata": {},
   "source": [
    "<br>\n",
    "\n",
    "### <span style=\"color:blue\">*Solving Bounded Post Correspondence Problem*</span>\n",
    "\n",
    "***\n",
    "\n",
    "<br>"
   ]
  },
  {
   "cell_type": "code",
   "execution_count": null,
   "id": "490aad0e",
   "metadata": {},
   "outputs": [],
   "source": []
  },
  {
   "cell_type": "markdown",
   "id": "01ca3b60",
   "metadata": {},
   "source": [
    "<br>\n",
    "\n",
    "### <span style=\"color:blue\">*Explanation of what an undecidable problem is in computability theory*</span>\n",
    "\n",
    "***\n",
    "\n",
    "<br>"
   ]
  },
  {
   "cell_type": "code",
   "execution_count": null,
   "id": "46513412",
   "metadata": {},
   "outputs": [],
   "source": []
  }
 ],
 "metadata": {
  "kernelspec": {
   "display_name": "Python 3",
   "language": "python",
   "name": "python3"
  },
  "language_info": {
   "codemirror_mode": {
    "name": "ipython",
    "version": 3
   },
   "file_extension": ".py",
   "mimetype": "text/x-python",
   "name": "python",
   "nbconvert_exporter": "python",
   "pygments_lexer": "ipython3",
   "version": "3.9.7"
  }
 },
 "nbformat": 4,
 "nbformat_minor": 5
}
