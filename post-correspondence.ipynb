{
 "cells": [
  {
   "cell_type": "markdown",
   "id": "e863fcc7",
   "metadata": {},
   "source": [
    "<br>\n",
    "\n",
    "# Post Correspondence Problem (PCP)\n",
    "\n",
    "https://en.wikipedia.org/wiki/Post_correspondence_problem\n",
    "\n",
    "***\n"
   ]
  },
  {
   "cell_type": "markdown",
   "id": "9786698f",
   "metadata": {},
   "source": [
    "***\n",
    "***\n",
    "***"
   ]
  },
  {
   "cell_type": "markdown",
   "id": "5e3b466d",
   "metadata": {},
   "source": [
    "* **Definition and explanation of the Post Correspondence Problem.**\n",
    "\n",
    "* **Definition and explanation of the Bounded Post Correspondence Problem.**\n",
    "\n",
    "* **Python function to solve the Bounded Post Correspondence Problem. The function should take two lists of strings and return True if they correspond, False otherwise.**\n",
    "\n",
    "* **Explanation of what an undecidable problem is in computability theory, with reference to the Post Correspondence Problem.**"
   ]
  },
  {
   "cell_type": "markdown",
   "id": "40ccf943",
   "metadata": {},
   "source": [
    "***\n",
    "***\n",
    "***\n"
   ]
  },
  {
   "cell_type": "markdown",
   "id": "64cdf638",
   "metadata": {},
   "source": [
    "### <span style=\"color:blue\">*Post Correspondence Problem*</span>\n",
    "\n",
    "***\n",
    "\n",
    "<br>"
   ]
  },
  {
   "cell_type": "markdown",
   "id": "16a48d32",
   "metadata": {},
   "source": [
    "In \"Halting Problem\" is looking at a computer program and finding out if the program is going to *run forever or not*."
   ]
  },
  {
   "cell_type": "markdown",
   "id": "e9b1f3ee",
   "metadata": {},
   "source": [
    "In \"Entscheidungsproblem\" will take a formal language, and a logical statement in that language, then output *True* or *False*, depending on the truth value of the statement, often used in proofs of undecidability."
   ]
  },
  {
   "cell_type": "markdown",
   "id": "027fec3e",
   "metadata": {},
   "source": [
    "Where \"Post Correspondence Problem\" (PCP) is a popular undecidable problem that was introduced by Emil Leon Post in 1946. It is simpler than Halting Problem and even than Entscheidungsproblem. The “PCP” is a tiling problem over strings. An instance of PCP is when you have two lists containing strings over the same alphabet and they are of the same length.\n",
    "In computability theory and computational complexity theory, an undecidable problem is a decision problem for which it is proved to be impossible to construct an algorithm that always leads to a correct *yes-or-no answer*."
   ]
  },
  {
   "attachments": {
    "emilLeonPost.jpg": {
     "image/jpeg": "[encoded data removed]"
    }
   },
   "cell_type": "markdown",
   "id": "45ec92ea",
   "metadata": {},
   "source": [
    "![emilLeonPost.jpg](attachment:emilLeonPost.jpg)"
   ]
  },
  {
   "cell_type": "markdown",
   "id": "7856d6b8",
   "metadata": {},
   "source": [
    "### Sample:"
   ]
  },
  {
   "cell_type": "markdown",
   "id": "35caf38e",
   "metadata": {},
   "source": [
    "Say below are two lists, M and N of non-empty strings over ∑ "
   ]
  },
  {
   "cell_type": "markdown",
   "id": "f7441fc5",
   "metadata": {},
   "source": [
    "M = ($x_{1}$, $x_{2}$, $x_{3}$, ......, $x_{n}$) "
   ]
  },
  {
   "cell_type": "markdown",
   "id": "4cfd6b6b",
   "metadata": {},
   "source": [
    "N = ($y_{1}$, $y_{2}$, $y_{3}$, ......, $y_{n}$)"
   ]
  },
  {
   "cell_type": "markdown",
   "id": "9e67ed79",
   "metadata": {},
   "source": [
    "We can say that there is a Post Correspondence Solution for example if for some $i_{1}$,$i_{1}$, ...... $i_{k}$, where 1 $\\leq$ $i_{j}$ $\\leq$ n, the condition $x_{i1}$ ....... $x_{ik}$ = $y_{i1}$ ..... $y_{ik}$ satisfies."
   ]
  },
  {
   "cell_type": "markdown",
   "id": "2659721b",
   "metadata": {},
   "source": [
    "* #### *Example with solution*"
   ]
  },
  {
   "cell_type": "markdown",
   "id": "fa8ac53d",
   "metadata": {},
   "source": [
    "M = (abb, aa, aaa) and N = (bba, aaa, aa)"
   ]
  },
  {
   "cell_type": "markdown",
   "id": "bbef2020",
   "metadata": {},
   "source": [
    "|X1 |X2|X3| |\n",
    "|:-----|:----:|----:|----:|\n",
    "|M |Abb |aa |aaa |\n",
    "|N |Bba |aaa |aa |\n"
   ]
  },
  {
   "cell_type": "markdown",
   "id": "b5f26479",
   "metadata": {},
   "source": [
    "**Here is:**"
   ]
  },
  {
   "cell_type": "markdown",
   "id": "e38aaf85",
   "metadata": {},
   "source": [
    "$x_{2}$, $x_{1}$, $x_{3}$ = `aaabbaaa`"
   ]
  },
  {
   "cell_type": "markdown",
   "id": "4f5e7120",
   "metadata": {},
   "source": [
    "and $y_{2}$, $y_{1}$, $y_{3}$ = `aaabbaaa`"
   ]
  },
  {
   "cell_type": "markdown",
   "id": "22d2e428",
   "metadata": {},
   "source": [
    "**In this case:**"
   ]
  },
  {
   "cell_type": "markdown",
   "id": "51558406",
   "metadata": {},
   "source": [
    "$x_{2}$, $x_{1}$, $x_{3}$ = $y_{2}$, $y_{1}$, $y_{3}$"
   ]
  },
  {
   "cell_type": "markdown",
   "id": "18b22fab",
   "metadata": {},
   "source": [
    "**Solution is:**"
   ]
  },
  {
   "cell_type": "markdown",
   "id": "5b4a50d2",
   "metadata": {},
   "source": [
    "i = 2, j = 1, and k = 3"
   ]
  },
  {
   "cell_type": "markdown",
   "id": "90efa0e2",
   "metadata": {},
   "source": [
    "* #### *Example with out solution*"
   ]
  },
  {
   "cell_type": "markdown",
   "id": "68fef7ee",
   "metadata": {},
   "source": [
    "M = (ab, bab, bbaaa)"
   ]
  },
  {
   "cell_type": "markdown",
   "id": "31fce4f4",
   "metadata": {},
   "source": [
    "N = (a, ba, bab)"
   ]
  },
  {
   "cell_type": "markdown",
   "id": "8fa1414e",
   "metadata": {},
   "source": [
    "| |X1|X2|X3 |\n",
    "|:-----|:----:|----:|----:|\n",
    "|M |ab |bab |bbaaa |\n",
    "|N |a |ba |bab |"
   ]
  },
  {
   "cell_type": "markdown",
   "id": "3bf2da80",
   "metadata": {},
   "source": [
    "| $x_{2}$, $x_{1}$, $x_{3}$ | $ \\neq $ | $y_{2}$, $y_{1}$, $y_{3}$ |\n",
    "\n"
   ]
  },
  {
   "cell_type": "code",
   "execution_count": null,
   "id": "19999073",
   "metadata": {},
   "outputs": [],
   "source": [
    "In this case we can say that PCP is undecidable"
   ]
  },
  {
   "cell_type": "markdown",
   "id": "16196b9f",
   "metadata": {},
   "source": [
    "<br>\n",
    "\n",
    "### <span style=\"color:blue\">*Bounded Post Correspondence Problem*</span>\n",
    "\n",
    "***\n",
    "\n",
    "<br>"
   ]
  },
  {
   "cell_type": "code",
   "execution_count": null,
   "id": "0208fe01",
   "metadata": {},
   "outputs": [],
   "source": []
  },
  {
   "cell_type": "code",
   "execution_count": null,
   "id": "4fff6a25",
   "metadata": {},
   "outputs": [],
   "source": []
  },
  {
   "cell_type": "code",
   "execution_count": null,
   "id": "f425a11d",
   "metadata": {},
   "outputs": [],
   "source": []
  },
  {
   "cell_type": "code",
   "execution_count": null,
   "id": "ed0f8bf3",
   "metadata": {},
   "outputs": [],
   "source": []
  },
  {
   "cell_type": "code",
   "execution_count": null,
   "id": "5792b18a",
   "metadata": {},
   "outputs": [],
   "source": []
  },
  {
   "cell_type": "markdown",
   "id": "3641496e",
   "metadata": {},
   "source": [
    "<br>\n",
    "\n",
    "### <span style=\"color:blue\">*Solving Bounded Post Correspondence Problem*</span>\n",
    "\n",
    "***\n",
    "\n",
    "<br>"
   ]
  },
  {
   "cell_type": "code",
   "execution_count": null,
   "id": "490aad0e",
   "metadata": {},
   "outputs": [],
   "source": []
  },
  {
   "cell_type": "code",
   "execution_count": null,
   "id": "b470f325",
   "metadata": {},
   "outputs": [],
   "source": []
  },
  {
   "cell_type": "code",
   "execution_count": null,
   "id": "8e6c8315",
   "metadata": {},
   "outputs": [],
   "source": []
  },
  {
   "cell_type": "code",
   "execution_count": null,
   "id": "d799cc88",
   "metadata": {},
   "outputs": [],
   "source": []
  },
  {
   "cell_type": "markdown",
   "id": "01ca3b60",
   "metadata": {},
   "source": [
    "<br>\n",
    "\n",
    "### <span style=\"color:blue\">*Explanation of what an undecidable problem is in computability theory*</span>\n",
    "\n",
    "***\n",
    "\n",
    "<br>"
   ]
  },
  {
   "cell_type": "code",
   "execution_count": null,
   "id": "46513412",
   "metadata": {},
   "outputs": [],
   "source": []
  },
  {
   "cell_type": "code",
   "execution_count": null,
   "id": "159bbff3",
   "metadata": {},
   "outputs": [],
   "source": []
  },
  {
   "cell_type": "code",
   "execution_count": null,
   "id": "8b8b2805",
   "metadata": {},
   "outputs": [],
   "source": []
  },
  {
   "cell_type": "code",
   "execution_count": null,
   "id": "bd3c23aa",
   "metadata": {},
   "outputs": [],
   "source": []
  }
 ],
 "metadata": {
  "kernelspec": {
   "display_name": "Python 3",
   "language": "python",
   "name": "python3"
  },
  "language_info": {
   "codemirror_mode": {
    "name": "ipython",
    "version": 3
   },
   "file_extension": ".py",
   "mimetype": "text/x-python",
   "name": "python",
   "nbconvert_exporter": "python",
   "pygments_lexer": "ipython3",
   "version": "3.9.7"
  }
 },
 "nbformat": 4,
 "nbformat_minor": 5
}
